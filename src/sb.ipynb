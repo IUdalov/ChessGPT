{
 "cells": [
  {
   "cell_type": "code",
   "execution_count": 2,
   "id": "6216dceb-8b16-402b-82c1-1061b2bdddeb",
   "metadata": {
    "tags": []
   },
   "outputs": [
    {
     "name": "stdout",
     "output_type": "stream",
     "text": [
      "The autoreload extension is already loaded. To reload it, use:\n",
      "  %reload_ext autoreload\n"
     ]
    }
   ],
   "source": [
    "%load_ext autoreload\n",
    "%autoreload 2"
   ]
  },
  {
   "cell_type": "code",
   "execution_count": 3,
   "id": "74fcbc75-888a-4afd-a45f-e4ef11cd5b41",
   "metadata": {},
   "outputs": [],
   "source": [
    "from tokenizer import read_pgn_games\n",
    "from chess_gpt import ChessGPT\n",
    "from IPython.display import clear_output\n",
    "from itertools import islice\n",
    "\n",
    "import chess\n",
    "import chess.engine\n",
    "import chess.pgn\n",
    "import time"
   ]
  },
  {
   "cell_type": "code",
   "execution_count": 4,
   "id": "b45dd9ff-4725-4877-9c5a-1b22857bdb39",
   "metadata": {
    "tags": []
   },
   "outputs": [],
   "source": [
    "_DB_PATH = \"/Users/iudalov/code/ChessGPT/data/ficsgamesdb_202301_chess_nomovetimes_284330.pgn\"\n",
    "_ENGINE_PATH = \"/Users/iudalov/code/ChessGPT/third-party/Stockfish/src/stockfish\""
   ]
  },
  {
   "cell_type": "code",
   "execution_count": 7,
   "id": "d3195f86-88d8-4106-ab84-33245adcca69",
   "metadata": {
    "tags": []
   },
   "outputs": [],
   "source": [
    "\n",
    "#all_games = [game for game in read_games(_DB_PATH)\n",
    "all_games = list(islice(read_pgn_games(_DB_PATH), 100))"
   ]
  },
  {
   "cell_type": "code",
   "execution_count": 36,
   "id": "0188a3c3-30b6-4816-a4d4-557ffe08f6a0",
   "metadata": {
    "tags": []
   },
   "outputs": [],
   "source": [
    "def animate_game(game, timeout_sec=3, show_eval=True, eval_time_limit=0.5):\n",
    "    engine = None\n",
    "    if show_eval:\n",
    "        engine = chess.engine.SimpleEngine.popen_uci(_ENGINE_PATH)\n",
    "\n",
    "    if isinstance(game, list):\n",
    "        board = chess.Board()\n",
    "        total_moves = len(game)\n",
    "        moves = game\n",
    "        title = \"?\"\n",
    "    else:\n",
    "        board = game.board()\n",
    "        total_moves = len(list(game.mainline_moves()))\n",
    "        moves= [str(move) for move in game.mainline_moves()]\n",
    "        tille = \"Result:\", game.headers[\"Result\"], f\"{game.headers['White']} vs {game.headers['Black']}\"\n",
    "\n",
    "    for n, move in enumerate(moves):\n",
    "        board.push_san(move)\n",
    "        \n",
    "        info = None\n",
    "        if show_eval:\n",
    "            info = engine.analyse(board, chess.engine.Limit(time=eval_time_limit))\n",
    "\n",
    "        clear_output(wait=True)\n",
    "        \n",
    "        print(title)\n",
    "        print(f\"Move {n + 1}/{total_moves}: {move}\")\n",
    "        if show_eval:\n",
    "            print(\"Eval:\", info[\"score\"], info[\"score\"].wdl().white())\n",
    "\n",
    "        display(board)\n",
    "        time.sleep(timeout_sec)\n",
    "    \n",
    "\n",
    "    if engine is not None:\n",
    "        engine.quit()\n",
    "\n",
    "#game = \"e2e4 e7e5 g1f3 b8c6 d2d4 e5d4 f3d4 d7d6 c1e3 c8f5 e4f5 g8f6 f1b5 f6d5 b1c3 f8e7 e1g1 e8g8 f1e1 f7f5 d1d2 f5f4 e3f4 f5f4 e1e2 g7g5 f4d6 f4g3 f2e3 c7d6 e3f4 d6f4 g3f4 g5f4 e3f4 a8f8 f4f5 d8d7 f5h3 c7c5 d4e6 d7e6 e3d5 e6d5 f5g6 f8f6 b3b4 c5d4 e2d4 e6f6 d1d4 f4g5 d4d5 g5e7 d5e7 e7f8 e7f7\". split(\" \")\n",
    "#animate_game(all_games[21], show_eval=False)\n",
    "#animate_game(game)"
   ]
  },
  {
   "cell_type": "code",
   "execution_count": 32,
   "id": "96fddfa7-7dc7-4f4f-b104-6b5ffbe322c2",
   "metadata": {
    "tags": []
   },
   "outputs": [
    {
     "name": "stdout",
     "output_type": "stream",
     "text": [
      "WARNING: using slow attention. Flash Attention requires PyTorch >= 2.0\n",
      "WARNING: using slow attention. Flash Attention requires PyTorch >= 2.0\n",
      "WARNING: using slow attention. Flash Attention requires PyTorch >= 2.0\n",
      "WARNING: using slow attention. Flash Attention requires PyTorch >= 2.0\n",
      "number of parameters: 0.80M\n"
     ]
    }
   ],
   "source": [
    "chess_gpt = ChessGPT(\"/Users/iudalov/code/ChessGPT/third-party/nanoGPT/out-chess/ckpt.pt\")\n",
    "stockfish = chess.engine.SimpleEngine.popen_uci(_ENGINE_PATH)"
   ]
  },
  {
   "cell_type": "code",
   "execution_count": 35,
   "id": "757cdbed-3833-473b-8288-3ec4a87c5053",
   "metadata": {},
   "outputs": [
    {
     "name": "stdout",
     "output_type": "stream",
     "text": [
      "No legal moves was found [['c7b7'], ['c7b8'], ['f7g6'], ['g8h8'], ['h7g6'], ['c7b8'], ['f7g6'], ['g8f7'], ['h7g6'], ['d8c8']]\n",
      "Game #0: None\n",
      "InvalidMoveError <nop>\n",
      "No legal moves was found [['g8h7'], ['g5h6'], ['g6h7'], ['g8h7'], ['g6e5'], ['g8h8'], ['g8h8'], ['a6a5'], ['<nop>'], ['g8f7']]\n",
      "Game #1: None\n",
      "No legal moves was found [['c7d6'], ['c8d7'], ['c7d6'], ['d8d6'], ['c8d7'], ['c6c5'], ['d8d6'], ['d7d6'], ['d8d6'], ['d8d6']]\n",
      "Game #2: None\n",
      "InvalidMoveError <nop>\n",
      "No legal moves was found [['e7f7'], ['f8e8'], ['d8e8'], ['e7d8'], ['g7g6'], ['f6d5'], ['g7g6'], ['a6a5'], ['<nop>'], ['c8d6']]\n",
      "Game #3: None\n",
      "No legal moves was found [['b8b7'], ['b8d7'], ['b8d7'], ['a8b8'], ['b8d7'], ['b6b5'], ['a8c8'], ['a8d8'], ['d5d4'], ['a8c8']]\n",
      "Game #4: None\n",
      "No legal moves was found [['b8b7'], ['c7g3'], ['d7e8'], ['e7d8'], ['e7e3'], ['c7e8'], ['e8e6'], ['e8e5'], ['g8f8'], ['e6f5']]\n",
      "Game #5: None\n",
      "No legal moves was found [['c7d6'], ['c8d7'], ['c7d6'], ['d8d6'], ['c8d7'], ['c6c5'], ['d8d6'], ['d7d6'], ['d8d6'], ['d8d6']]\n",
      "Game #6: None\n",
      "No legal moves was found [['g8g7'], ['g8g7'], ['g8g7'], ['g8g7'], ['g8g7'], ['g8f8'], ['g8g7'], ['g8g7'], ['g8g7'], ['b8a7']]\n",
      "Game #7: None\n",
      "InvalidMoveError <nop>\n",
      "No legal moves was found [['g8h8'], ['h8g8'], ['g8h8'], ['g8h8'], ['g8h8'], ['g8h7'], ['g8h8'], ['f7f6'], ['g8h8'], ['e6f8']]\n",
      "Game #8: None\n",
      "No legal moves was found [['c7d6'], ['c8d7'], ['c7d6'], ['d8d6'], ['c8d7'], ['c6c5'], ['d8d6'], ['d7d6'], ['d8d6'], ['d8d6']]\n",
      "Game #9: None\n",
      "Summary 0/10 were correct\n",
      "Avg game len: 30.8\n"
     ]
    }
   ],
   "source": [
    "def show_board(board, timeout):\n",
    "        clear_output(wait=True)\n",
    "        display(board)\n",
    "        time.sleep(timeout)\n",
    "\n",
    "def stockfish_vs_chess_gpt(stockfish, chess_gpt, stockfish_is_white=True, num_samples=10, animate=False, animation_timeout=2):\n",
    "    board = chess.Board()\n",
    "    moves = list()\n",
    "    stockfish_move = stockfish_is_white\n",
    "    while True:\n",
    "        if stockfish_move:            \n",
    "            result = stockfish.play(board, chess.engine.Limit(time=0.1))\n",
    "            board.push(result.move)\n",
    "            moves.append(str(result.move))\n",
    "        else:\n",
    "            result = chess_gpt.next_moves(moves, n_moves=1, num_samples=num_samples)\n",
    "            # print(f\"### {' '.join(moves)}, options: {result}\") # DEBUG\n",
    "            if result is None:\n",
    "                print(f\"Game is too long {len(moves)}\")\n",
    "                return None, moves\n",
    "            \n",
    "            was_legal_move = False\n",
    "            for item in result:\n",
    "                if was_legal_move:\n",
    "                    break\n",
    "                try:\n",
    "                    board.push_san(item[0])\n",
    "                    moves.append(item[0])\n",
    "                    was_legal_move = True\n",
    "                except chess.IllegalMoveError as e:\n",
    "                    #print(f\"IllegalMoveError {item[0]}\")\n",
    "                    pass\n",
    "                except chess.InvalidMoveError as e:\n",
    "                    print(f\"InvalidMoveError {item[0]}\")\n",
    "\n",
    "            if not was_legal_move:\n",
    "                print(\"No legal moves was found\", result)\n",
    "                return None, moves\n",
    "            \n",
    "\n",
    "        if animate:\n",
    "            show_board(board, animation_timeout)\n",
    "            print(len(moves), \" \".join(moves))\n",
    "        \n",
    "        stockfish_move = not stockfish_move\n",
    "\n",
    "    if board.is_game_over():\n",
    "        outcome = {\"1-0\": (1., 0.), \"0-1\": (0., 1.), \"1/2-1/2\": (0.5, 0.5)}[board.outcome().result()]\n",
    "        print(f\"Outcome {outcome}\")\n",
    "        return outcome, moves\n",
    "\n",
    "n_tests = 10\n",
    "good_games = 0\n",
    "all_moves = list()\n",
    "for i in range(n_tests):\n",
    "    outcome, moves = stockfish_vs_chess_gpt(stockfish, chess_gpt)\n",
    "    if outcome is not None:\n",
    "        good_games += 1\n",
    "    all_moves.append(moves)\n",
    "    print(f\"Game #{i}: {outcome}\")\n",
    "\n",
    "print(f\"Summary {good_games}/{n_tests} were correct\")\n",
    "print(\"Avg game len:\", sum([len(moves) for moves in  all_moves])/n_tests)\n"
   ]
  },
  {
   "cell_type": "code",
   "execution_count": null,
   "id": "1daa7d22-9194-4cd0-ad27-0a587dc85d53",
   "metadata": {},
   "outputs": [],
   "source": []
  }
 ],
 "metadata": {
  "kernelspec": {
   "display_name": "Python 3 (ipykernel)",
   "language": "python",
   "name": "python3"
  },
  "language_info": {
   "codemirror_mode": {
    "name": "ipython",
    "version": 3
   },
   "file_extension": ".py",
   "mimetype": "text/x-python",
   "name": "python",
   "nbconvert_exporter": "python",
   "pygments_lexer": "ipython3",
   "version": "3.11.3"
  }
 },
 "nbformat": 4,
 "nbformat_minor": 5
}
